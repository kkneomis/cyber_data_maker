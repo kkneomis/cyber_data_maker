{
 "cells": [
  {
   "cell_type": "code",
   "execution_count": 38,
   "metadata": {
    "collapsed": false
   },
   "outputs": [
    {
     "name": "stdout",
     "output_type": "stream",
     "text": [
      "She's your lovely to me, Akeem. If it all up a sudden? I know me. All right, my house tonight. Give yourselves a ticket, take the game. People love the 500,000 dollar pair of my sister, Patrice. What part of Green Bay. The girl told me my man! You say \n"
     ]
    }
   ],
   "source": [
    "import nltk\n",
    "import random\n",
    "\n",
    "with open('../config/general/script_censored.txt') as f:\n",
    "    corpus  = f.read()\n",
    "    \n",
    "def generate_text(corpus, length):\n",
    "    \"\"\"\n",
    "    Use nlkt to generate a paragraph of a given length\n",
    "    given some feeder text\n",
    "    \"\"\"\n",
    "\n",
    "    words = [x.strip() for x in corpus.split(' ')] \n",
    "    # NLTK shortcuts :)\n",
    "    bigrams = [b for b in zip(words[:-1], words[1:])]\n",
    "    cfd = nltk.ConditionalFreqDist(bigrams)\n",
    "\n",
    "    #print bigrams\n",
    "\n",
    "    # pick a random word from the corpus to start with\n",
    "    word = random.choice(words)\n",
    "    # generate 15 more words\n",
    "    \n",
    "    final_text = \"\"\n",
    "    for i in range(50):\n",
    "        final_text = final_text + word + \" \"\n",
    "        if word in cfd:\n",
    "            word = random.choice(cfd[word].keys())\n",
    "        else:\n",
    "            break\n",
    "            \n",
    "    return final_text\n",
    "\n",
    "print generate_text(corpus, 20)"
   ]
  },
  {
   "cell_type": "code",
   "execution_count": 39,
   "metadata": {
    "collapsed": true
   },
   "outputs": [],
   "source": [
    "def gen_email_addr():    \n",
    "    name = random.choice(sender_names).lower().strip().replace(\" \", \".\")\n",
    "    domain = random.choice(sender_domains).strip()\n",
    "    return \"%s@%s\"% (name, domain)\n"
   ]
  },
  {
   "cell_type": "code",
   "execution_count": 41,
   "metadata": {
    "collapsed": false
   },
   "outputs": [
    {
     "ename": "IOError",
     "evalue": "[Errno 2] No such file or directory: '../config/names.txt'",
     "output_type": "error",
     "traceback": [
      "\u001b[0;31m---------------------------------------------------------------------------\u001b[0m",
      "\u001b[0;31mIOError\u001b[0m                                   Traceback (most recent call last)",
      "\u001b[0;32m<ipython-input-41-49dbbf5be127>\u001b[0m in \u001b[0;36m<module>\u001b[0;34m()\u001b[0m\n\u001b[1;32m      1\u001b[0m \u001b[0;34m\u001b[0m\u001b[0m\n\u001b[1;32m      2\u001b[0m \u001b[0;31m# load up the fake email senders\u001b[0m\u001b[0;34m\u001b[0m\u001b[0;34m\u001b[0m\u001b[0m\n\u001b[0;32m----> 3\u001b[0;31m \u001b[0;32mwith\u001b[0m \u001b[0mopen\u001b[0m\u001b[0;34m(\u001b[0m\u001b[0;34m'../config/names.txt'\u001b[0m\u001b[0;34m)\u001b[0m \u001b[0;32mas\u001b[0m \u001b[0mf\u001b[0m\u001b[0;34m:\u001b[0m\u001b[0;34m\u001b[0m\u001b[0m\n\u001b[0m\u001b[1;32m      4\u001b[0m     \u001b[0msender_names\u001b[0m \u001b[0;34m=\u001b[0m \u001b[0mf\u001b[0m\u001b[0;34m.\u001b[0m\u001b[0mreadlines\u001b[0m\u001b[0;34m(\u001b[0m\u001b[0;34m)\u001b[0m\u001b[0;34m\u001b[0m\u001b[0m\n\u001b[1;32m      5\u001b[0m \u001b[0;34m\u001b[0m\u001b[0m\n",
      "\u001b[0;31mIOError\u001b[0m: [Errno 2] No such file or directory: '../config/names.txt'"
     ]
    }
   ],
   "source": [
    "\n",
    "# load up the fake email senders\n",
    "with open('../config/general/names.txt') as f:\n",
    "    sender_names = f.readlines()\n",
    "\n",
    "gen_email_addr()"
   ]
  },
  {
   "cell_type": "code",
   "execution_count": null,
   "metadata": {
    "collapsed": true
   },
   "outputs": [],
   "source": []
  }
 ],
 "metadata": {
  "anaconda-cloud": {},
  "kernelspec": {
   "display_name": "Python [conda root]",
   "language": "python",
   "name": "conda-root-py"
  },
  "language_info": {
   "codemirror_mode": {
    "name": "ipython",
    "version": 2
   },
   "file_extension": ".py",
   "mimetype": "text/x-python",
   "name": "python",
   "nbconvert_exporter": "python",
   "pygments_lexer": "ipython2",
   "version": "2.7.6"
  }
 },
 "nbformat": 4,
 "nbformat_minor": 1
}
