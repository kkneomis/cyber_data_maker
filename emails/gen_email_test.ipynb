{
 "cells": [
  {
   "cell_type": "code",
   "execution_count": 85,
   "metadata": {
    "collapsed": false
   },
   "outputs": [
    {
     "name": "stdout",
     "output_type": "stream",
     "text": [
      "talk to shake your father told you play football. I know, you learnt all you comfortable, Miss... I'm almost regal. \n"
     ]
    }
   ],
   "source": [
    "import nltk\n",
    "import random\n",
    "\n",
    "with open('../config/general/script_censored.txt') as f:\n",
    "    corpus  = f.read()\n",
    "    \n",
    "def generate_text(corpus, length):\n",
    "    \"\"\"\n",
    "    Use nlkt to generate a paragraph of a given length\n",
    "    given some feeder text\n",
    "    \"\"\"\n",
    "\n",
    "    words = [x.strip() for x in corpus.split(' ')] \n",
    "    # NLTK shortcuts :)\n",
    "    bigrams = [b for b in zip(words[:-1], words[1:])]\n",
    "    cfd = nltk.ConditionalFreqDist(bigrams)\n",
    "\n",
    "    #print bigrams\n",
    "\n",
    "    # pick a random word from the corpus to start with\n",
    "    word = random.choice(words)\n",
    "    # generate 15 more words\n",
    "    \n",
    "    final_text = \"\"\n",
    "    for i in range(length):\n",
    "        final_text = final_text + word + \" \"\n",
    "        if word in cfd:\n",
    "            word = random.choice(cfd[word].keys())\n",
    "        else:\n",
    "            break\n",
    "            \n",
    "    return final_text\n",
    "\n",
    "print generate_text(corpus, 20)"
   ]
  },
  {
   "cell_type": "code",
   "execution_count": null,
   "metadata": {
    "collapsed": false
   },
   "outputs": [],
   "source": []
  },
  {
   "cell_type": "code",
   "execution_count": 96,
   "metadata": {
    "collapsed": false
   },
   "outputs": [],
   "source": [
    "import json \n",
    "# load up the company's employees\n",
    "with open('../config/employees.json') as f:\n",
    "    hosts = json.loads(f.read())\n",
    "    \n",
    "    \n",
    "from datetime import datetime\n",
    "from datetime import timedelta\n",
    "\n",
    "import hashlib\n",
    "import random\n",
    "\n",
    "\n",
    "\n",
    "# load up the fake email senders\n",
    "with open('../config/general/names.txt') as f:\n",
    "    sender_names = f.readlines()\n",
    "    \n",
    "with open('../config/general/domains.txt') as f:\n",
    "    sender_domains = f.readlines()\n",
    "    \n",
    "date_time = datetime(1988, 6, 29, 8, 00, 00)\n",
    "\n",
    "def gen_email_addr():    \n",
    "    name = random.choice(sender_names).lower().strip().replace(\" \", \".\")\n",
    "    domain = random.choice(sender_domains).strip()\n",
    "    return \"%s@%s\"% (name, domain)\n",
    "\n",
    "body = generate_text(corpus, 20)\n",
    "\n",
    "def gen_email(body, date_time):    \n",
    "    # generate this from list of names and email domains\n",
    "    recipient = random.choice(hosts)[\"email_addr\"]\n",
    "    \n",
    "    # generate this on the fly using datetime functions similar to other scripts\n",
    "    date_time += timedelta(seconds=random.randint(200, 3000))\n",
    "    time = date_time.strftime(\"%a %b %d %H:%M:%S %Y\")\n",
    "\n",
    "    # get this from the list of active company employess\n",
    "    sender = gen_email_addr()\n",
    "\n",
    "    subject = generate_text(corpus, 7)\n",
    "\n",
    "\n",
    "    # create a hash of the datetime for message naming\n",
    "    hash = hashlib.sha1()\n",
    "    hash.update(str(time))\n",
    "    filename =  \"output/email_%s\" % hash.hexdigest()\n",
    "\n",
    "    #content =  t.render(\n",
    "    #        body = body,\n",
    "    #        sender = sender,\n",
    "    #        time = time,\n",
    "    #        recipient = recipient,\n",
    "    #        subject = subject)\n",
    "    result = random.choices([\"Accepted\", \"Blocked\"], [.7, .3], k=1)[0]\n",
    "   \n",
    "\n",
    "    # write the email to file\n",
    "    # with open(filename, 'w') as f:\n",
    "    #    f.write(content)\n",
    "\n",
    "    # cache the method in a json object for replies\n",
    "    cur_message = {\n",
    "                    \"sender\":sender,\n",
    "                    \"recipient\":recipient,\n",
    "                    \"filename\":filename,\n",
    "                    \"subject\":subject,\n",
    "                    \"result\": result\n",
    "                  }\n",
    "                \n",
    "    return cur_message"
   ]
  },
  {
   "cell_type": "code",
   "execution_count": 97,
   "metadata": {
    "collapsed": false
   },
   "outputs": [
    {
     "ename": "AttributeError",
     "evalue": "'module' object has no attribute 'choices'",
     "output_type": "error",
     "traceback": [
      "\u001b[0;31m---------------------------------------------------------------------------\u001b[0m",
      "\u001b[0;31mAttributeError\u001b[0m                            Traceback (most recent call last)",
      "\u001b[0;32m<ipython-input-97-b1a7a52b86fb>\u001b[0m in \u001b[0;36m<module>\u001b[0;34m()\u001b[0m\n\u001b[0;32m----> 1\u001b[0;31m \u001b[0mgen_email\u001b[0m\u001b[0;34m(\u001b[0m\u001b[0mbody\u001b[0m\u001b[0;34m,\u001b[0m \u001b[0mdate_time\u001b[0m\u001b[0;34m)\u001b[0m\u001b[0;34m\u001b[0m\u001b[0m\n\u001b[0m",
      "\u001b[0;32m<ipython-input-96-b013d12835fd>\u001b[0m in \u001b[0;36mgen_email\u001b[0;34m(body, date_time)\u001b[0m\n\u001b[1;32m     54\u001b[0m     \u001b[0;31m#        recipient = recipient,\u001b[0m\u001b[0;34m\u001b[0m\u001b[0;34m\u001b[0m\u001b[0m\n\u001b[1;32m     55\u001b[0m     \u001b[0;31m#        subject = subject)\u001b[0m\u001b[0;34m\u001b[0m\u001b[0;34m\u001b[0m\u001b[0m\n\u001b[0;32m---> 56\u001b[0;31m     \u001b[0mresult\u001b[0m \u001b[0;34m=\u001b[0m \u001b[0mrandom\u001b[0m\u001b[0;34m.\u001b[0m\u001b[0mchoices\u001b[0m\u001b[0;34m(\u001b[0m\u001b[0;34m[\u001b[0m\u001b[0;34m\"Accepted\"\u001b[0m\u001b[0;34m,\u001b[0m \u001b[0;34m\"Blocked\"\u001b[0m\u001b[0;34m]\u001b[0m\u001b[0;34m,\u001b[0m \u001b[0;34m[\u001b[0m\u001b[0;36m.7\u001b[0m\u001b[0;34m,\u001b[0m \u001b[0;36m.3\u001b[0m\u001b[0;34m]\u001b[0m\u001b[0;34m,\u001b[0m \u001b[0mk\u001b[0m\u001b[0;34m=\u001b[0m\u001b[0;36m1\u001b[0m\u001b[0;34m)\u001b[0m\u001b[0;34m[\u001b[0m\u001b[0;36m0\u001b[0m\u001b[0;34m]\u001b[0m\u001b[0;34m\u001b[0m\u001b[0m\n\u001b[0m\u001b[1;32m     57\u001b[0m \u001b[0;34m\u001b[0m\u001b[0m\n\u001b[1;32m     58\u001b[0m \u001b[0;34m\u001b[0m\u001b[0m\n",
      "\u001b[0;31mAttributeError\u001b[0m: 'module' object has no attribute 'choices'"
     ]
    }
   ],
   "source": [
    "gen_email(body, date_time)"
   ]
  },
  {
   "cell_type": "code",
   "execution_count": null,
   "metadata": {
    "collapsed": true
   },
   "outputs": [],
   "source": []
  },
  {
   "cell_type": "code",
   "execution_count": null,
   "metadata": {
    "collapsed": true
   },
   "outputs": [],
   "source": []
  }
 ],
 "metadata": {
  "anaconda-cloud": {},
  "kernelspec": {
   "display_name": "Python [conda root]",
   "language": "python",
   "name": "conda-root-py"
  },
  "language_info": {
   "codemirror_mode": {
    "name": "ipython",
    "version": 2
   },
   "file_extension": ".py",
   "mimetype": "text/x-python",
   "name": "python",
   "nbconvert_exporter": "python",
   "pygments_lexer": "ipython2",
   "version": "2.7.6"
  }
 },
 "nbformat": 4,
 "nbformat_minor": 1
}
